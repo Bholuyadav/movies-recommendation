{
 "cells": [
  {
   "cell_type": "markdown",
   "id": "ef8b4e3e",
   "metadata": {},
   "source": [
    "# This is movie recommendation system made by Dheeraj yadav for \n",
    "fial assignment on coursera deep learning , in this project , difflib is used for measuring difference between two values that how much closer, Tfidfvectorizer is used to change data into feature vector for cosine_similarity algorithm to making in condition of apply.  data shape was(1000,16) my favirote movie was avenger age of ultron , and most closet to it avengers series\n",
    "the algorithm works basis on fearures like: cast in movie , title , director, genres.reverse = True is embeded in this program for arrangement in descending order on basis of closset value to required movie.\n"
   ]
  },
  {
   "cell_type": "code",
   "execution_count": 1,
   "id": "4b3b4470",
   "metadata": {},
   "outputs": [],
   "source": [
    "# Import Pandas\n",
    "import pandas as pd\n",
    "import numpy as np\n",
    "import difflib\n",
    "from sklearn.feature_extraction.text import TfidfVectorizer\n",
    "from sklearn.metrics.pairwise import cosine_similarity\n",
    "df=pd.read_csv('Downloads/movies.csv')"
   ]
  },
  {
   "cell_type": "code",
   "execution_count": 2,
   "id": "aba820bb",
   "metadata": {},
   "outputs": [
    {
     "data": {
      "text/html": [
       "<div>\n",
       "<style scoped>\n",
       "    .dataframe tbody tr th:only-of-type {\n",
       "        vertical-align: middle;\n",
       "    }\n",
       "\n",
       "    .dataframe tbody tr th {\n",
       "        vertical-align: top;\n",
       "    }\n",
       "\n",
       "    .dataframe thead th {\n",
       "        text-align: right;\n",
       "    }\n",
       "</style>\n",
       "<table border=\"1\" class=\"dataframe\">\n",
       "  <thead>\n",
       "    <tr style=\"text-align: right;\">\n",
       "      <th></th>\n",
       "      <th>Poster_Link</th>\n",
       "      <th>Series_Title</th>\n",
       "      <th>Released_Year</th>\n",
       "      <th>Certificate</th>\n",
       "      <th>Runtime</th>\n",
       "      <th>Genre</th>\n",
       "      <th>IMDB_Rating</th>\n",
       "      <th>Overview</th>\n",
       "      <th>Meta_score</th>\n",
       "      <th>Director</th>\n",
       "      <th>Star1</th>\n",
       "      <th>Star2</th>\n",
       "      <th>Star3</th>\n",
       "      <th>Star4</th>\n",
       "      <th>No_of_Votes</th>\n",
       "      <th>Gross</th>\n",
       "    </tr>\n",
       "  </thead>\n",
       "  <tbody>\n",
       "    <tr>\n",
       "      <th>0</th>\n",
       "      <td>https://m.media-amazon.com/images/M/MV5BMDFkYT...</td>\n",
       "      <td>The Shawshank Redemption</td>\n",
       "      <td>1994</td>\n",
       "      <td>A</td>\n",
       "      <td>142 min</td>\n",
       "      <td>Drama</td>\n",
       "      <td>9.3</td>\n",
       "      <td>Two imprisoned men bond over a number of years...</td>\n",
       "      <td>80.0</td>\n",
       "      <td>Frank Darabont</td>\n",
       "      <td>Tim Robbins</td>\n",
       "      <td>Morgan Freeman</td>\n",
       "      <td>Bob Gunton</td>\n",
       "      <td>William Sadler</td>\n",
       "      <td>2343110</td>\n",
       "      <td>28,341,469</td>\n",
       "    </tr>\n",
       "    <tr>\n",
       "      <th>1</th>\n",
       "      <td>https://m.media-amazon.com/images/M/MV5BM2MyNj...</td>\n",
       "      <td>The Godfather</td>\n",
       "      <td>1972</td>\n",
       "      <td>A</td>\n",
       "      <td>175 min</td>\n",
       "      <td>Crime, Drama</td>\n",
       "      <td>9.2</td>\n",
       "      <td>An organized crime dynasty's aging patriarch t...</td>\n",
       "      <td>100.0</td>\n",
       "      <td>Francis Ford Coppola</td>\n",
       "      <td>Marlon Brando</td>\n",
       "      <td>Al Pacino</td>\n",
       "      <td>James Caan</td>\n",
       "      <td>Diane Keaton</td>\n",
       "      <td>1620367</td>\n",
       "      <td>134,966,411</td>\n",
       "    </tr>\n",
       "    <tr>\n",
       "      <th>2</th>\n",
       "      <td>https://m.media-amazon.com/images/M/MV5BMTMxNT...</td>\n",
       "      <td>The Dark Knight</td>\n",
       "      <td>2008</td>\n",
       "      <td>UA</td>\n",
       "      <td>152 min</td>\n",
       "      <td>Action, Crime, Drama</td>\n",
       "      <td>9.0</td>\n",
       "      <td>When the menace known as the Joker wreaks havo...</td>\n",
       "      <td>84.0</td>\n",
       "      <td>Christopher Nolan</td>\n",
       "      <td>Christian Bale</td>\n",
       "      <td>Heath Ledger</td>\n",
       "      <td>Aaron Eckhart</td>\n",
       "      <td>Michael Caine</td>\n",
       "      <td>2303232</td>\n",
       "      <td>534,858,444</td>\n",
       "    </tr>\n",
       "    <tr>\n",
       "      <th>3</th>\n",
       "      <td>https://m.media-amazon.com/images/M/MV5BMWMwMG...</td>\n",
       "      <td>The Godfather: Part II</td>\n",
       "      <td>1974</td>\n",
       "      <td>A</td>\n",
       "      <td>202 min</td>\n",
       "      <td>Crime, Drama</td>\n",
       "      <td>9.0</td>\n",
       "      <td>The early life and career of Vito Corleone in ...</td>\n",
       "      <td>90.0</td>\n",
       "      <td>Francis Ford Coppola</td>\n",
       "      <td>Al Pacino</td>\n",
       "      <td>Robert De Niro</td>\n",
       "      <td>Robert Duvall</td>\n",
       "      <td>Diane Keaton</td>\n",
       "      <td>1129952</td>\n",
       "      <td>57,300,000</td>\n",
       "    </tr>\n",
       "    <tr>\n",
       "      <th>4</th>\n",
       "      <td>https://m.media-amazon.com/images/M/MV5BMWU4N2...</td>\n",
       "      <td>12 Angry Men</td>\n",
       "      <td>1957</td>\n",
       "      <td>U</td>\n",
       "      <td>96 min</td>\n",
       "      <td>Crime, Drama</td>\n",
       "      <td>9.0</td>\n",
       "      <td>A jury holdout attempts to prevent a miscarria...</td>\n",
       "      <td>96.0</td>\n",
       "      <td>Sidney Lumet</td>\n",
       "      <td>Henry Fonda</td>\n",
       "      <td>Lee J. Cobb</td>\n",
       "      <td>Martin Balsam</td>\n",
       "      <td>John Fiedler</td>\n",
       "      <td>689845</td>\n",
       "      <td>4,360,000</td>\n",
       "    </tr>\n",
       "  </tbody>\n",
       "</table>\n",
       "</div>"
      ],
      "text/plain": [
       "                                         Poster_Link  \\\n",
       "0  https://m.media-amazon.com/images/M/MV5BMDFkYT...   \n",
       "1  https://m.media-amazon.com/images/M/MV5BM2MyNj...   \n",
       "2  https://m.media-amazon.com/images/M/MV5BMTMxNT...   \n",
       "3  https://m.media-amazon.com/images/M/MV5BMWMwMG...   \n",
       "4  https://m.media-amazon.com/images/M/MV5BMWU4N2...   \n",
       "\n",
       "               Series_Title Released_Year Certificate  Runtime  \\\n",
       "0  The Shawshank Redemption          1994           A  142 min   \n",
       "1             The Godfather          1972           A  175 min   \n",
       "2           The Dark Knight          2008          UA  152 min   \n",
       "3    The Godfather: Part II          1974           A  202 min   \n",
       "4              12 Angry Men          1957           U   96 min   \n",
       "\n",
       "                  Genre  IMDB_Rating  \\\n",
       "0                 Drama          9.3   \n",
       "1          Crime, Drama          9.2   \n",
       "2  Action, Crime, Drama          9.0   \n",
       "3          Crime, Drama          9.0   \n",
       "4          Crime, Drama          9.0   \n",
       "\n",
       "                                            Overview  Meta_score  \\\n",
       "0  Two imprisoned men bond over a number of years...        80.0   \n",
       "1  An organized crime dynasty's aging patriarch t...       100.0   \n",
       "2  When the menace known as the Joker wreaks havo...        84.0   \n",
       "3  The early life and career of Vito Corleone in ...        90.0   \n",
       "4  A jury holdout attempts to prevent a miscarria...        96.0   \n",
       "\n",
       "               Director           Star1           Star2          Star3  \\\n",
       "0        Frank Darabont     Tim Robbins  Morgan Freeman     Bob Gunton   \n",
       "1  Francis Ford Coppola   Marlon Brando       Al Pacino     James Caan   \n",
       "2     Christopher Nolan  Christian Bale    Heath Ledger  Aaron Eckhart   \n",
       "3  Francis Ford Coppola       Al Pacino  Robert De Niro  Robert Duvall   \n",
       "4          Sidney Lumet     Henry Fonda     Lee J. Cobb  Martin Balsam   \n",
       "\n",
       "            Star4  No_of_Votes        Gross  \n",
       "0  William Sadler      2343110   28,341,469  \n",
       "1    Diane Keaton      1620367  134,966,411  \n",
       "2   Michael Caine      2303232  534,858,444  \n",
       "3    Diane Keaton      1129952   57,300,000  \n",
       "4    John Fiedler       689845    4,360,000  "
      ]
     },
     "execution_count": 2,
     "metadata": {},
     "output_type": "execute_result"
    }
   ],
   "source": [
    "df.head()"
   ]
  },
  {
   "cell_type": "code",
   "execution_count": 3,
   "id": "4dd4b422",
   "metadata": {},
   "outputs": [
    {
     "data": {
      "text/plain": [
       "(1000, 16)"
      ]
     },
     "execution_count": 3,
     "metadata": {},
     "output_type": "execute_result"
    }
   ],
   "source": [
    "df.shape"
   ]
  },
  {
   "cell_type": "code",
   "execution_count": null,
   "id": "808a0bff",
   "metadata": {},
   "outputs": [],
   "source": [
    "df.columns"
   ]
  },
  {
   "cell_type": "code",
   "execution_count": 5,
   "id": "4f9c61c4",
   "metadata": {},
   "outputs": [
    {
     "name": "stdout",
     "output_type": "stream",
     "text": [
      "['cast', 'keywords', 'director', 'genres', 'tagline', 'production_companies']\n"
     ]
    }
   ],
   "source": [
    "selected_features=['cast','keywords','director','genres','tagline','production_companies']\n",
    "print(selected_features)"
   ]
  },
  {
   "cell_type": "code",
   "execution_count": 7,
   "id": "217d1a67",
   "metadata": {},
   "outputs": [
    {
     "data": {
      "text/plain": [
       "<bound method DataFrame.isnull of       index     budget                                    genres  \\\n",
       "0         0  237000000  Action Adventure Fantasy Science Fiction   \n",
       "1         1  300000000                  Adventure Fantasy Action   \n",
       "2         2  245000000                    Action Adventure Crime   \n",
       "3         3  250000000               Action Crime Drama Thriller   \n",
       "4         4  260000000          Action Adventure Science Fiction   \n",
       "...     ...        ...                                       ...   \n",
       "4798   4798     220000                     Action Crime Thriller   \n",
       "4799   4799       9000                            Comedy Romance   \n",
       "4800   4800          0             Comedy Drama Romance TV Movie   \n",
       "4801   4801          0                                       NaN   \n",
       "4802   4802          0                               Documentary   \n",
       "\n",
       "                                               homepage      id  \\\n",
       "0                           http://www.avatarmovie.com/   19995   \n",
       "1          http://disney.go.com/disneypictures/pirates/     285   \n",
       "2           http://www.sonypictures.com/movies/spectre/  206647   \n",
       "3                    http://www.thedarkknightrises.com/   49026   \n",
       "4                  http://movies.disney.com/john-carter   49529   \n",
       "...                                                 ...     ...   \n",
       "4798                                                NaN    9367   \n",
       "4799                                                NaN   72766   \n",
       "4800  http://www.hallmarkchannel.com/signedsealeddel...  231617   \n",
       "4801                        http://shanghaicalling.com/  126186   \n",
       "4802                                                NaN   25975   \n",
       "\n",
       "                                               keywords original_language  \\\n",
       "0     culture clash future space war space colony so...                en   \n",
       "1     ocean drug abuse exotic island east india trad...                en   \n",
       "2            spy based on novel secret agent sequel mi6                en   \n",
       "3     dc comics crime fighter terrorist secret ident...                en   \n",
       "4     based on novel mars medallion space travel pri...                en   \n",
       "...                                                 ...               ...   \n",
       "4798  united states\\u2013mexico barrier legs arms pa...                es   \n",
       "4799                                                NaN                en   \n",
       "4800  date love at first sight narration investigati...                en   \n",
       "4801                                                NaN                en   \n",
       "4802               obsession camcorder crush dream girl                en   \n",
       "\n",
       "                                original_title  \\\n",
       "0                                       Avatar   \n",
       "1     Pirates of the Caribbean: At World's End   \n",
       "2                                      Spectre   \n",
       "3                        The Dark Knight Rises   \n",
       "4                                  John Carter   \n",
       "...                                        ...   \n",
       "4798                               El Mariachi   \n",
       "4799                                 Newlyweds   \n",
       "4800                 Signed, Sealed, Delivered   \n",
       "4801                          Shanghai Calling   \n",
       "4802                         My Date with Drew   \n",
       "\n",
       "                                               overview  popularity  ...  \\\n",
       "0     In the 22nd century, a paraplegic Marine is di...  150.437577  ...   \n",
       "1     Captain Barbossa, long believed to be dead, ha...  139.082615  ...   \n",
       "2     A cryptic message from Bond’s past sends him o...  107.376788  ...   \n",
       "3     Following the death of District Attorney Harve...  112.312950  ...   \n",
       "4     John Carter is a war-weary, former military ca...   43.926995  ...   \n",
       "...                                                 ...         ...  ...   \n",
       "4798  El Mariachi just wants to play his guitar and ...   14.269792  ...   \n",
       "4799  A newlywed couple's honeymoon is upended by th...    0.642552  ...   \n",
       "4800  \"Signed, Sealed, Delivered\" introduces a dedic...    1.444476  ...   \n",
       "4801  When ambitious New York attorney Sam is sent t...    0.857008  ...   \n",
       "4802  Ever since the second grade when he first saw ...    1.929883  ...   \n",
       "\n",
       "     runtime                                   spoken_languages    status  \\\n",
       "0      162.0  [{\"iso_639_1\": \"en\", \"name\": \"English\"}, {\"iso...  Released   \n",
       "1      169.0           [{\"iso_639_1\": \"en\", \"name\": \"English\"}]  Released   \n",
       "2      148.0  [{\"iso_639_1\": \"fr\", \"name\": \"Fran\\u00e7ais\"},...  Released   \n",
       "3      165.0           [{\"iso_639_1\": \"en\", \"name\": \"English\"}]  Released   \n",
       "4      132.0           [{\"iso_639_1\": \"en\", \"name\": \"English\"}]  Released   \n",
       "...      ...                                                ...       ...   \n",
       "4798    81.0      [{\"iso_639_1\": \"es\", \"name\": \"Espa\\u00f1ol\"}]  Released   \n",
       "4799    85.0                                                 []  Released   \n",
       "4800   120.0           [{\"iso_639_1\": \"en\", \"name\": \"English\"}]  Released   \n",
       "4801    98.0           [{\"iso_639_1\": \"en\", \"name\": \"English\"}]  Released   \n",
       "4802    90.0           [{\"iso_639_1\": \"en\", \"name\": \"English\"}]  Released   \n",
       "\n",
       "                                                tagline  \\\n",
       "0                           Enter the World of Pandora.   \n",
       "1        At the end of the world, the adventure begins.   \n",
       "2                                 A Plan No One Escapes   \n",
       "3                                       The Legend Ends   \n",
       "4                  Lost in our world, found in another.   \n",
       "...                                                 ...   \n",
       "4798  He didn't come looking for trouble, but troubl...   \n",
       "4799  A newlywed couple's honeymoon is upended by th...   \n",
       "4800                                                NaN   \n",
       "4801                           A New Yorker in Shanghai   \n",
       "4802                                                NaN   \n",
       "\n",
       "                                         title vote_average vote_count  \\\n",
       "0                                       Avatar          7.2      11800   \n",
       "1     Pirates of the Caribbean: At World's End          6.9       4500   \n",
       "2                                      Spectre          6.3       4466   \n",
       "3                        The Dark Knight Rises          7.6       9106   \n",
       "4                                  John Carter          6.1       2124   \n",
       "...                                        ...          ...        ...   \n",
       "4798                               El Mariachi          6.6        238   \n",
       "4799                                 Newlyweds          5.9          5   \n",
       "4800                 Signed, Sealed, Delivered          7.0          6   \n",
       "4801                          Shanghai Calling          5.7          7   \n",
       "4802                         My Date with Drew          6.3         16   \n",
       "\n",
       "                                                   cast  \\\n",
       "0     Sam Worthington Zoe Saldana Sigourney Weaver S...   \n",
       "1     Johnny Depp Orlando Bloom Keira Knightley Stel...   \n",
       "2     Daniel Craig Christoph Waltz L\\u00e9a Seydoux ...   \n",
       "3     Christian Bale Michael Caine Gary Oldman Anne ...   \n",
       "4     Taylor Kitsch Lynn Collins Samantha Morton Wil...   \n",
       "...                                                 ...   \n",
       "4798  Carlos Gallardo Jaime de Hoyos Peter Marquardt...   \n",
       "4799  Edward Burns Kerry Bish\\u00e9 Marsha Dietlein ...   \n",
       "4800  Eric Mabius Kristin Booth Crystal Lowe Geoff G...   \n",
       "4801  Daniel Henney Eliza Coupe Bill Paxton Alan Ruc...   \n",
       "4802  Drew Barrymore Brian Herzlinger Corey Feldman ...   \n",
       "\n",
       "                                                   crew           director  \n",
       "0     [{'name': 'Stephen E. Rivkin', 'gender': 0, 'd...      James Cameron  \n",
       "1     [{'name': 'Dariusz Wolski', 'gender': 2, 'depa...     Gore Verbinski  \n",
       "2     [{'name': 'Thomas Newman', 'gender': 2, 'depar...         Sam Mendes  \n",
       "3     [{'name': 'Hans Zimmer', 'gender': 2, 'departm...  Christopher Nolan  \n",
       "4     [{'name': 'Andrew Stanton', 'gender': 2, 'depa...     Andrew Stanton  \n",
       "...                                                 ...                ...  \n",
       "4798  [{'name': 'Robert Rodriguez', 'gender': 0, 'de...   Robert Rodriguez  \n",
       "4799  [{'name': 'Edward Burns', 'gender': 2, 'depart...       Edward Burns  \n",
       "4800  [{'name': 'Carla Hetland', 'gender': 0, 'depar...        Scott Smith  \n",
       "4801  [{'name': 'Daniel Hsia', 'gender': 2, 'departm...        Daniel Hsia  \n",
       "4802  [{'name': 'Clark Peterson', 'gender': 2, 'depa...   Brian Herzlinger  \n",
       "\n",
       "[4803 rows x 24 columns]>"
      ]
     },
     "execution_count": 7,
     "metadata": {},
     "output_type": "execute_result"
    }
   ],
   "source": [
    "df.isnull"
   ]
  },
  {
   "cell_type": "code",
   "execution_count": 8,
   "id": "538c3d82",
   "metadata": {},
   "outputs": [],
   "source": [
    "# replacining null value in null strings\n",
    "for feature in selected_features:\n",
    "    df[feature]= df[feature].fillna('')\n"
   ]
  },
  {
   "cell_type": "code",
   "execution_count": 9,
   "id": "54e58192",
   "metadata": {},
   "outputs": [],
   "source": [
    "#concatanation of all 6 required features\n",
    "combined_features= df['cast']+' '+df['keywords']+' '+df['director']+' '+ df['genres']+' '+df['tagline']+' '+df['production_companies']\n"
   ]
  },
  {
   "cell_type": "code",
   "execution_count": 10,
   "id": "12ced888",
   "metadata": {},
   "outputs": [
    {
     "name": "stdout",
     "output_type": "stream",
     "text": [
      "combined_features\n"
     ]
    }
   ],
   "source": [
    "print('combined_features')"
   ]
  },
  {
   "cell_type": "code",
   "execution_count": 11,
   "id": "fe3f0bb0",
   "metadata": {},
   "outputs": [
    {
     "name": "stdout",
     "output_type": "stream",
     "text": [
      "0       Sam Worthington Zoe Saldana Sigourney Weaver S...\n",
      "1       Johnny Depp Orlando Bloom Keira Knightley Stel...\n",
      "2       Daniel Craig Christoph Waltz L\\u00e9a Seydoux ...\n",
      "3       Christian Bale Michael Caine Gary Oldman Anne ...\n",
      "4       Taylor Kitsch Lynn Collins Samantha Morton Wil...\n",
      "                              ...                        \n",
      "4798    Carlos Gallardo Jaime de Hoyos Peter Marquardt...\n",
      "4799    Edward Burns Kerry Bish\\u00e9 Marsha Dietlein ...\n",
      "4800    Eric Mabius Kristin Booth Crystal Lowe Geoff G...\n",
      "4801    Daniel Henney Eliza Coupe Bill Paxton Alan Ruc...\n",
      "4802    Drew Barrymore Brian Herzlinger Corey Feldman ...\n",
      "Length: 4803, dtype: object\n"
     ]
    }
   ],
   "source": [
    "print(combined_features)"
   ]
  },
  {
   "cell_type": "code",
   "execution_count": 12,
   "id": "ed0fb6da",
   "metadata": {},
   "outputs": [],
   "source": [
    "#convertin text data into feature vector aby using TfidfVectorizer\n",
    "vectorizer= TfidfVectorizer()\n"
   ]
  },
  {
   "cell_type": "code",
   "execution_count": 13,
   "id": "9308a706",
   "metadata": {},
   "outputs": [],
   "source": [
    "vector_features= vectorizer.fit_transform(combined_features)"
   ]
  },
  {
   "cell_type": "code",
   "execution_count": 14,
   "id": "e0ffaa21",
   "metadata": {},
   "outputs": [
    {
     "name": "stdout",
     "output_type": "stream",
     "text": [
      "  (0, 3766)\t0.2098540726862492\n",
      "  (0, 15671)\t0.2098540726862492\n",
      "  (0, 3167)\t0.1469810864824715\n",
      "  (0, 10812)\t0.127137864256118\n",
      "  (0, 10407)\t0.13590970318125783\n",
      "  (0, 2447)\t0.11113382625938133\n",
      "  (0, 9084)\t0.09497545729341002\n",
      "  (0, 11736)\t0.09497545729341002\n",
      "  (0, 8217)\t0.10812255702462105\n",
      "  (0, 23573)\t0.11017142211322992\n",
      "  (0, 2330)\t0.16590774124677626\n",
      "  (0, 13714)\t0.11750829981084292\n",
      "  (0, 18660)\t0.14437860475958111\n",
      "  (0, 11434)\t0.14021050132175555\n",
      "  (0, 13889)\t0.1594530532410294\n",
      "  (0, 17656)\t0.11750829981084292\n",
      "  (0, 18554)\t0.1867182733411117\n",
      "  (0, 18172)\t0.07408824361791565\n",
      "  (0, 25090)\t0.10611468011018776\n",
      "  (0, 22975)\t0.05658541518179166\n",
      "  (0, 10806)\t0.20199880122315814\n",
      "  (0, 11395)\t0.08703562276809243\n",
      "  (0, 20998)\t0.08688406609240634\n",
      "  (0, 11210)\t0.09333203773089045\n",
      "  (0, 5330)\t0.07577911746309499\n",
      "  :\t:\n",
      "  (4802, 4903)\t0.24173138507551534\n",
      "  (4802, 13259)\t0.4834627701510307\n",
      "  (4802, 20587)\t0.21651567578751438\n",
      "  (4802, 11318)\t0.1902206386546073\n",
      "  (4802, 9323)\t0.21651567578751438\n",
      "  (4802, 9301)\t0.21149830824997662\n",
      "  (4802, 7853)\t0.2035814896530272\n",
      "  (4802, 15983)\t0.18126523142443796\n",
      "  (4802, 10414)\t0.2035814896530272\n",
      "  (4802, 12596)\t0.18450654194178312\n",
      "  (4802, 10137)\t0.13046931304988524\n",
      "  (4802, 6694)\t0.17451962500639895\n",
      "  (4802, 20312)\t0.14389057973111788\n",
      "  (4802, 6592)\t0.16630529721489148\n",
      "  (4802, 10320)\t0.16543159423053905\n",
      "  (4802, 9063)\t0.18450654194178312\n",
      "  (4802, 12288)\t0.15260511599271737\n",
      "  (4802, 10858)\t0.135486680587423\n",
      "  (4802, 7511)\t0.2614235513947258\n",
      "  (4802, 10303)\t0.14162744216417986\n",
      "  (4802, 18130)\t0.15154654962180103\n",
      "  (4802, 11481)\t0.0595881064676829\n",
      "  (4802, 10812)\t0.06406700346694313\n",
      "  (4802, 13714)\t0.05921449676242766\n",
      "  (4802, 17656)\t0.05921449676242766\n"
     ]
    }
   ],
   "source": [
    "print(vector_features)"
   ]
  },
  {
   "cell_type": "code",
   "execution_count": 15,
   "id": "91c053d7",
   "metadata": {},
   "outputs": [],
   "source": [
    "# now calculating similarity using cosine_similarity\n",
    "similarity= cosine_similarity(vector_features)"
   ]
  },
  {
   "cell_type": "code",
   "execution_count": 16,
   "id": "f0b9ff25",
   "metadata": {},
   "outputs": [
    {
     "data": {
      "text/plain": [
       "(4803, 4803)"
      ]
     },
     "execution_count": 16,
     "metadata": {},
     "output_type": "execute_result"
    }
   ],
   "source": [
    "similarity.shape"
   ]
  },
  {
   "cell_type": "code",
   "execution_count": null,
   "id": "8ac53f8c",
   "metadata": {},
   "outputs": [],
   "source": [
    "#input data from user\n",
    "movie_name= input('Enter your movie name here:')"
   ]
  },
  {
   "cell_type": "code",
   "execution_count": null,
   "id": "ebc32ae9",
   "metadata": {},
   "outputs": [],
   "source": [
    "list_of_titles= df['title'].tolist()\n",
    "print(list_of_titles)"
   ]
  },
  {
   "cell_type": "code",
   "execution_count": null,
   "id": "c114a64d",
   "metadata": {},
   "outputs": [],
   "source": [
    "#now finding close match value by using difflib\n",
    "close_match= difflib.get_close_matches(movie_name, list_of_titles)\n",
    "\n",
    "print(close_match)"
   ]
  },
  {
   "cell_type": "code",
   "execution_count": null,
   "id": "52a644ff",
   "metadata": {},
   "outputs": [],
   "source": [
    "print(close_match)"
   ]
  },
  {
   "cell_type": "code",
   "execution_count": null,
   "id": "56948e65",
   "metadata": {},
   "outputs": [],
   "source": [
    "index_of_the_movie = df[df.title == close_match]['index'].values[0]\n",
    "print(index_of_the_movie)"
   ]
  },
  {
   "cell_type": "code",
   "execution_count": null,
   "id": "96969494",
   "metadata": {},
   "outputs": [],
   "source": [
    "#now finding similar movie on the base of index here ; enumarate is a loop in a list\n",
    "similarity_score= list(enumerate(similarity[index_of_the_movie]))\n",
    "print(similarity_score)"
   ]
  },
  {
   "cell_type": "code",
   "execution_count": null,
   "id": "f8d5dbde",
   "metadata": {},
   "outputs": [],
   "source": [
    "len(similarity_score)"
   ]
  },
  {
   "cell_type": "code",
   "execution_count": null,
   "id": "ef0f21f5",
   "metadata": {},
   "outputs": [],
   "source": [
    "#shorting movie according to their score of similarity,reverse=true will arrange in descending order according to their\n",
    "#similarity \n",
    "#score\n",
    "sorted_similar_movie=sorted(similarity_score,key= lambda x:x[1], reverse=True)\n",
    "print(sorted_similarity_movie)"
   ]
  },
  {
   "cell_type": "code",
   "execution_count": null,
   "id": "742f0467",
   "metadata": {},
   "outputs": [],
   "source": []
  }
 ],
 "metadata": {
  "kernelspec": {
   "display_name": "Python 3 (ipykernel)",
   "language": "python",
   "name": "python3"
  },
  "language_info": {
   "codemirror_mode": {
    "name": "ipython",
    "version": 3
   },
   "file_extension": ".py",
   "mimetype": "text/x-python",
   "name": "python",
   "nbconvert_exporter": "python",
   "pygments_lexer": "ipython3",
   "version": "3.9.12"
  }
 },
 "nbformat": 4,
 "nbformat_minor": 5
}
